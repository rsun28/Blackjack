{
 "cells": [
  {
   "cell_type": "code",
   "execution_count": 10,
   "metadata": {},
   "outputs": [],
   "source": [
    "def blackjack():\n",
    "    def player():\n",
    "        import random\n",
    "        ace = 11\n",
    "        face = 10\n",
    "        cards = [2,3,4,5,6,7,8,9,10,ace,face,face,face]\n",
    "        hand2 = []\n",
    "        hand = random.choice(cards)\n",
    "        hand2.append(hand)\n",
    "        while True:\n",
    "            old_ace = 0\n",
    "            ace = random.choice(cards)\n",
    "            hand = hand + ace\n",
    "            hand2.append(ace)\n",
    "            if hand < 21 and ace == 11:\n",
    "                old_ace = ace\n",
    "                print (hand2)\n",
    "                print (hand)\n",
    "            elif hand < 21:\n",
    "                print(hand2)\n",
    "                print (hand)\n",
    "            elif hand == 21:\n",
    "                print('BLACKJACK!')\n",
    "                return 'BLACKJACK!'\n",
    "            elif hand > 21 and (ace == 11 or old_ace == 11):\n",
    "                hand = hand  - 10\n",
    "                print(hand2)\n",
    "                print (hand)\n",
    "            else:\n",
    "                print('BUST!')\n",
    "                return 'BUST!'\n",
    "            print ('Stand or hit.')\n",
    "            instruct = input()\n",
    "            if instruct == 'stand':\n",
    "                return hand\n",
    "            else:\n",
    "                continue\n",
    "    \n",
    "    print ('Enter name of Player 1.')\n",
    "    name = input()\n",
    "    result = player()\n",
    "    if type(result) == type(0):\n",
    "        print ('Enter name of Player 2.')\n",
    "        name2 = input()\n",
    "        result2 = player()\n",
    "        if type(result2) == type(0):\n",
    "            if result > result2:\n",
    "                print (f'{name} beat {name2}!')\n",
    "            elif result == result2:\n",
    "                print (f'{name} and {name2} tied!')\n",
    "            else:\n",
    "                print (f'{name2} beat {name}!')\n",
    "        else:\n",
    "            if result2 == 'BUST!':\n",
    "                print (f'{name} beat {name2}!')\n",
    "            else:\n",
    "                print (f'{name2} beat {name}!') \n",
    "    else:\n",
    "        print ('Enter name of Player 2')\n",
    "        name2 = input()\n",
    "        if result == 'BUST!':\n",
    "            print (f'{name2} beat {name}!')\n",
    "        else:\n",
    "            print (f'{name} beat {name2}')"
   ]
  },
  {
   "cell_type": "code",
   "execution_count": 11,
   "metadata": {},
   "outputs": [
    {
     "name": "stdout",
     "output_type": "stream",
     "text": [
      "Enter name of Player 1.\n",
      "THE BEST PRO\n",
      "[2, 3]\n",
      "5\n",
      "Stand or hit.\n",
      "hit\n",
      "[2, 3, 5]\n",
      "10\n",
      "Stand or hit.\n",
      "hit\n",
      "[2, 3, 5, 8]\n",
      "18\n",
      "Stand or hit.\n",
      "stand\n",
      "Enter name of Player 2.\n",
      "the greatest propro\n",
      "[3, 9]\n",
      "12\n",
      "Stand or hit.\n",
      "hit\n",
      "[3, 9, 6]\n",
      "18\n",
      "Stand or hit.\n",
      "stand\n",
      "THE BEST PRO and the greatest propro tied!\n"
     ]
    }
   ],
   "source": [
    "blackjack()"
   ]
  },
  {
   "cell_type": "code",
   "execution_count": null,
   "metadata": {},
   "outputs": [],
   "source": []
  },
  {
   "cell_type": "code",
   "execution_count": null,
   "metadata": {},
   "outputs": [],
   "source": []
  }
 ],
 "metadata": {
  "kernelspec": {
   "display_name": "Python 3",
   "language": "python",
   "name": "python3"
  },
  "language_info": {
   "codemirror_mode": {
    "name": "ipython",
    "version": 3
   },
   "file_extension": ".py",
   "mimetype": "text/x-python",
   "name": "python",
   "nbconvert_exporter": "python",
   "pygments_lexer": "ipython3",
   "version": "3.7.6"
  }
 },
 "nbformat": 4,
 "nbformat_minor": 4
}
